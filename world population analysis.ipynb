{
 "cells": [
  {
   "cell_type": "code",
   "execution_count": 3,
   "metadata": {},
   "outputs": [],
   "source": [
    "import pandas as pd\n",
    "import matplotlib.pyplot as plt"
   ]
  },
  {
   "cell_type": "code",
   "execution_count": 16,
   "metadata": {},
   "outputs": [],
   "source": [
    "import seaborn as sns"
   ]
  },
  {
   "cell_type": "code",
   "execution_count": 5,
   "metadata": {},
   "outputs": [],
   "source": [
    "df = pd.read_csv(\"world_population_data.csv\")"
   ]
  },
  {
   "cell_type": "code",
   "execution_count": 10,
   "metadata": {},
   "outputs": [
    {
     "data": {
      "text/html": [
       "<div>\n",
       "<style scoped>\n",
       "    .dataframe tbody tr th:only-of-type {\n",
       "        vertical-align: middle;\n",
       "    }\n",
       "\n",
       "    .dataframe tbody tr th {\n",
       "        vertical-align: top;\n",
       "    }\n",
       "\n",
       "    .dataframe thead th {\n",
       "        text-align: right;\n",
       "    }\n",
       "</style>\n",
       "<table border=\"1\" class=\"dataframe\">\n",
       "  <thead>\n",
       "    <tr style=\"text-align: right;\">\n",
       "      <th></th>\n",
       "      <th>rank</th>\n",
       "      <th>cca3</th>\n",
       "      <th>country</th>\n",
       "      <th>continent</th>\n",
       "      <th>2023 population</th>\n",
       "      <th>2022 population</th>\n",
       "      <th>2020 population</th>\n",
       "      <th>2015 population</th>\n",
       "      <th>2010 population</th>\n",
       "      <th>2000 population</th>\n",
       "      <th>1990 population</th>\n",
       "      <th>1980 population</th>\n",
       "      <th>1970 population</th>\n",
       "      <th>area (km²)</th>\n",
       "      <th>density (km²)</th>\n",
       "      <th>growth rate</th>\n",
       "      <th>world percentage</th>\n",
       "    </tr>\n",
       "  </thead>\n",
       "  <tbody>\n",
       "    <tr>\n",
       "      <th>0</th>\n",
       "      <td>1</td>\n",
       "      <td>IND</td>\n",
       "      <td>India</td>\n",
       "      <td>Asia</td>\n",
       "      <td>1428627663</td>\n",
       "      <td>1417173173</td>\n",
       "      <td>1396387127</td>\n",
       "      <td>1322866505</td>\n",
       "      <td>1240613620</td>\n",
       "      <td>1059633675</td>\n",
       "      <td>870452165</td>\n",
       "      <td>696828385</td>\n",
       "      <td>557501301</td>\n",
       "      <td>3287590.0</td>\n",
       "      <td>481</td>\n",
       "      <td>0.81%</td>\n",
       "      <td>17.85%</td>\n",
       "    </tr>\n",
       "    <tr>\n",
       "      <th>1</th>\n",
       "      <td>2</td>\n",
       "      <td>CHN</td>\n",
       "      <td>China</td>\n",
       "      <td>Asia</td>\n",
       "      <td>1425671352</td>\n",
       "      <td>1425887337</td>\n",
       "      <td>1424929781</td>\n",
       "      <td>1393715448</td>\n",
       "      <td>1348191368</td>\n",
       "      <td>1264099069</td>\n",
       "      <td>1153704252</td>\n",
       "      <td>982372466</td>\n",
       "      <td>822534450</td>\n",
       "      <td>9706961.0</td>\n",
       "      <td>151</td>\n",
       "      <td>-0.02%</td>\n",
       "      <td>17.81%</td>\n",
       "    </tr>\n",
       "    <tr>\n",
       "      <th>2</th>\n",
       "      <td>3</td>\n",
       "      <td>USA</td>\n",
       "      <td>United States</td>\n",
       "      <td>North America</td>\n",
       "      <td>339996563</td>\n",
       "      <td>338289857</td>\n",
       "      <td>335942003</td>\n",
       "      <td>324607776</td>\n",
       "      <td>311182845</td>\n",
       "      <td>282398554</td>\n",
       "      <td>248083732</td>\n",
       "      <td>223140018</td>\n",
       "      <td>200328340</td>\n",
       "      <td>9372610.0</td>\n",
       "      <td>37</td>\n",
       "      <td>0.50%</td>\n",
       "      <td>4.25%</td>\n",
       "    </tr>\n",
       "    <tr>\n",
       "      <th>3</th>\n",
       "      <td>4</td>\n",
       "      <td>IDN</td>\n",
       "      <td>Indonesia</td>\n",
       "      <td>Asia</td>\n",
       "      <td>277534122</td>\n",
       "      <td>275501339</td>\n",
       "      <td>271857970</td>\n",
       "      <td>259091970</td>\n",
       "      <td>244016173</td>\n",
       "      <td>214072421</td>\n",
       "      <td>182159874</td>\n",
       "      <td>148177096</td>\n",
       "      <td>115228394</td>\n",
       "      <td>1904569.0</td>\n",
       "      <td>148</td>\n",
       "      <td>0.74%</td>\n",
       "      <td>3.47%</td>\n",
       "    </tr>\n",
       "    <tr>\n",
       "      <th>4</th>\n",
       "      <td>5</td>\n",
       "      <td>PAK</td>\n",
       "      <td>Pakistan</td>\n",
       "      <td>Asia</td>\n",
       "      <td>240485658</td>\n",
       "      <td>235824862</td>\n",
       "      <td>227196741</td>\n",
       "      <td>210969298</td>\n",
       "      <td>194454498</td>\n",
       "      <td>154369924</td>\n",
       "      <td>115414069</td>\n",
       "      <td>80624057</td>\n",
       "      <td>59290872</td>\n",
       "      <td>881912.0</td>\n",
       "      <td>312</td>\n",
       "      <td>1.98%</td>\n",
       "      <td>3.00%</td>\n",
       "    </tr>\n",
       "  </tbody>\n",
       "</table>\n",
       "</div>"
      ],
      "text/plain": [
       "   rank cca3        country      continent  2023 population  2022 population  \\\n",
       "0     1  IND          India           Asia       1428627663       1417173173   \n",
       "1     2  CHN          China           Asia       1425671352       1425887337   \n",
       "2     3  USA  United States  North America        339996563        338289857   \n",
       "3     4  IDN      Indonesia           Asia        277534122        275501339   \n",
       "4     5  PAK       Pakistan           Asia        240485658        235824862   \n",
       "\n",
       "   2020 population  2015 population  2010 population  2000 population  \\\n",
       "0       1396387127       1322866505       1240613620       1059633675   \n",
       "1       1424929781       1393715448       1348191368       1264099069   \n",
       "2        335942003        324607776        311182845        282398554   \n",
       "3        271857970        259091970        244016173        214072421   \n",
       "4        227196741        210969298        194454498        154369924   \n",
       "\n",
       "   1990 population  1980 population  1970 population  area (km²)  \\\n",
       "0        870452165        696828385        557501301   3287590.0   \n",
       "1       1153704252        982372466        822534450   9706961.0   \n",
       "2        248083732        223140018        200328340   9372610.0   \n",
       "3        182159874        148177096        115228394   1904569.0   \n",
       "4        115414069         80624057         59290872    881912.0   \n",
       "\n",
       "   density (km²) growth rate world percentage  \n",
       "0            481       0.81%           17.85%  \n",
       "1            151      -0.02%           17.81%  \n",
       "2             37       0.50%            4.25%  \n",
       "3            148       0.74%            3.47%  \n",
       "4            312       1.98%            3.00%  "
      ]
     },
     "execution_count": 10,
     "metadata": {},
     "output_type": "execute_result"
    }
   ],
   "source": [
    "df.head()"
   ]
  },
  {
   "cell_type": "code",
   "execution_count": 8,
   "metadata": {},
   "outputs": [
    {
     "data": {
      "text/plain": [
       "Index(['rank', 'cca3', 'country', 'continent', '2023 population',\n",
       "       '2022 population', '2020 population', '2015 population',\n",
       "       '2010 population', '2000 population', '1990 population',\n",
       "       '1980 population', '1970 population', 'area (km²)', 'density (km²)',\n",
       "       'growth rate', 'world percentage'],\n",
       "      dtype='object')"
      ]
     },
     "execution_count": 8,
     "metadata": {},
     "output_type": "execute_result"
    }
   ],
   "source": [
    "df.columns"
   ]
  },
  {
   "cell_type": "code",
   "execution_count": 11,
   "metadata": {},
   "outputs": [
    {
     "data": {
      "text/html": [
       "<div>\n",
       "<style scoped>\n",
       "    .dataframe tbody tr th:only-of-type {\n",
       "        vertical-align: middle;\n",
       "    }\n",
       "\n",
       "    .dataframe tbody tr th {\n",
       "        vertical-align: top;\n",
       "    }\n",
       "\n",
       "    .dataframe thead th {\n",
       "        text-align: right;\n",
       "    }\n",
       "</style>\n",
       "<table border=\"1\" class=\"dataframe\">\n",
       "  <thead>\n",
       "    <tr style=\"text-align: right;\">\n",
       "      <th></th>\n",
       "      <th>rank</th>\n",
       "      <th>2023 population</th>\n",
       "      <th>2022 population</th>\n",
       "      <th>2020 population</th>\n",
       "      <th>2015 population</th>\n",
       "      <th>2010 population</th>\n",
       "      <th>2000 population</th>\n",
       "      <th>1990 population</th>\n",
       "      <th>1980 population</th>\n",
       "      <th>1970 population</th>\n",
       "      <th>area (km²)</th>\n",
       "      <th>density (km²)</th>\n",
       "    </tr>\n",
       "  </thead>\n",
       "  <tbody>\n",
       "    <tr>\n",
       "      <th>count</th>\n",
       "      <td>234.000000</td>\n",
       "      <td>2.340000e+02</td>\n",
       "      <td>2.340000e+02</td>\n",
       "      <td>2.340000e+02</td>\n",
       "      <td>2.340000e+02</td>\n",
       "      <td>2.340000e+02</td>\n",
       "      <td>2.340000e+02</td>\n",
       "      <td>2.340000e+02</td>\n",
       "      <td>2.340000e+02</td>\n",
       "      <td>2.340000e+02</td>\n",
       "      <td>2.340000e+02</td>\n",
       "      <td>234.000000</td>\n",
       "    </tr>\n",
       "    <tr>\n",
       "      <th>mean</th>\n",
       "      <td>117.500000</td>\n",
       "      <td>3.437442e+07</td>\n",
       "      <td>3.407441e+07</td>\n",
       "      <td>3.350107e+07</td>\n",
       "      <td>3.172996e+07</td>\n",
       "      <td>2.984524e+07</td>\n",
       "      <td>2.626947e+07</td>\n",
       "      <td>2.271022e+07</td>\n",
       "      <td>1.898462e+07</td>\n",
       "      <td>1.578691e+07</td>\n",
       "      <td>5.814500e+05</td>\n",
       "      <td>451.282051</td>\n",
       "    </tr>\n",
       "    <tr>\n",
       "      <th>std</th>\n",
       "      <td>67.694165</td>\n",
       "      <td>1.373864e+08</td>\n",
       "      <td>1.367664e+08</td>\n",
       "      <td>1.355899e+08</td>\n",
       "      <td>1.304050e+08</td>\n",
       "      <td>1.242185e+08</td>\n",
       "      <td>1.116982e+08</td>\n",
       "      <td>9.783217e+07</td>\n",
       "      <td>8.178519e+07</td>\n",
       "      <td>6.779509e+07</td>\n",
       "      <td>1.761841e+06</td>\n",
       "      <td>1979.398922</td>\n",
       "    </tr>\n",
       "    <tr>\n",
       "      <th>min</th>\n",
       "      <td>1.000000</td>\n",
       "      <td>5.180000e+02</td>\n",
       "      <td>5.100000e+02</td>\n",
       "      <td>5.200000e+02</td>\n",
       "      <td>5.640000e+02</td>\n",
       "      <td>5.960000e+02</td>\n",
       "      <td>6.510000e+02</td>\n",
       "      <td>7.000000e+02</td>\n",
       "      <td>7.330000e+02</td>\n",
       "      <td>7.520000e+02</td>\n",
       "      <td>4.400000e-01</td>\n",
       "      <td>0.000000</td>\n",
       "    </tr>\n",
       "    <tr>\n",
       "      <th>25%</th>\n",
       "      <td>59.250000</td>\n",
       "      <td>4.225982e+05</td>\n",
       "      <td>4.197385e+05</td>\n",
       "      <td>4.152845e+05</td>\n",
       "      <td>4.046760e+05</td>\n",
       "      <td>3.931490e+05</td>\n",
       "      <td>3.272420e+05</td>\n",
       "      <td>2.641158e+05</td>\n",
       "      <td>2.296142e+05</td>\n",
       "      <td>1.559970e+05</td>\n",
       "      <td>2.650000e+03</td>\n",
       "      <td>39.500000</td>\n",
       "    </tr>\n",
       "    <tr>\n",
       "      <th>50%</th>\n",
       "      <td>117.500000</td>\n",
       "      <td>5.643895e+06</td>\n",
       "      <td>5.559944e+06</td>\n",
       "      <td>5.493074e+06</td>\n",
       "      <td>5.307400e+06</td>\n",
       "      <td>4.942770e+06</td>\n",
       "      <td>4.292907e+06</td>\n",
       "      <td>3.825410e+06</td>\n",
       "      <td>3.141146e+06</td>\n",
       "      <td>2.604830e+06</td>\n",
       "      <td>8.119950e+04</td>\n",
       "      <td>97.500000</td>\n",
       "    </tr>\n",
       "    <tr>\n",
       "      <th>75%</th>\n",
       "      <td>175.750000</td>\n",
       "      <td>2.324537e+07</td>\n",
       "      <td>2.247650e+07</td>\n",
       "      <td>2.144798e+07</td>\n",
       "      <td>1.973085e+07</td>\n",
       "      <td>1.915957e+07</td>\n",
       "      <td>1.576230e+07</td>\n",
       "      <td>1.186923e+07</td>\n",
       "      <td>9.826054e+06</td>\n",
       "      <td>8.817329e+06</td>\n",
       "      <td>4.304258e+05</td>\n",
       "      <td>242.750000</td>\n",
       "    </tr>\n",
       "    <tr>\n",
       "      <th>max</th>\n",
       "      <td>234.000000</td>\n",
       "      <td>1.428628e+09</td>\n",
       "      <td>1.425887e+09</td>\n",
       "      <td>1.424930e+09</td>\n",
       "      <td>1.393715e+09</td>\n",
       "      <td>1.348191e+09</td>\n",
       "      <td>1.264099e+09</td>\n",
       "      <td>1.153704e+09</td>\n",
       "      <td>9.823725e+08</td>\n",
       "      <td>8.225344e+08</td>\n",
       "      <td>1.709824e+07</td>\n",
       "      <td>21403.000000</td>\n",
       "    </tr>\n",
       "  </tbody>\n",
       "</table>\n",
       "</div>"
      ],
      "text/plain": [
       "             rank  2023 population  2022 population  2020 population  \\\n",
       "count  234.000000     2.340000e+02     2.340000e+02     2.340000e+02   \n",
       "mean   117.500000     3.437442e+07     3.407441e+07     3.350107e+07   \n",
       "std     67.694165     1.373864e+08     1.367664e+08     1.355899e+08   \n",
       "min      1.000000     5.180000e+02     5.100000e+02     5.200000e+02   \n",
       "25%     59.250000     4.225982e+05     4.197385e+05     4.152845e+05   \n",
       "50%    117.500000     5.643895e+06     5.559944e+06     5.493074e+06   \n",
       "75%    175.750000     2.324537e+07     2.247650e+07     2.144798e+07   \n",
       "max    234.000000     1.428628e+09     1.425887e+09     1.424930e+09   \n",
       "\n",
       "       2015 population  2010 population  2000 population  1990 population  \\\n",
       "count     2.340000e+02     2.340000e+02     2.340000e+02     2.340000e+02   \n",
       "mean      3.172996e+07     2.984524e+07     2.626947e+07     2.271022e+07   \n",
       "std       1.304050e+08     1.242185e+08     1.116982e+08     9.783217e+07   \n",
       "min       5.640000e+02     5.960000e+02     6.510000e+02     7.000000e+02   \n",
       "25%       4.046760e+05     3.931490e+05     3.272420e+05     2.641158e+05   \n",
       "50%       5.307400e+06     4.942770e+06     4.292907e+06     3.825410e+06   \n",
       "75%       1.973085e+07     1.915957e+07     1.576230e+07     1.186923e+07   \n",
       "max       1.393715e+09     1.348191e+09     1.264099e+09     1.153704e+09   \n",
       "\n",
       "       1980 population  1970 population    area (km²)  density (km²)  \n",
       "count     2.340000e+02     2.340000e+02  2.340000e+02     234.000000  \n",
       "mean      1.898462e+07     1.578691e+07  5.814500e+05     451.282051  \n",
       "std       8.178519e+07     6.779509e+07  1.761841e+06    1979.398922  \n",
       "min       7.330000e+02     7.520000e+02  4.400000e-01       0.000000  \n",
       "25%       2.296142e+05     1.559970e+05  2.650000e+03      39.500000  \n",
       "50%       3.141146e+06     2.604830e+06  8.119950e+04      97.500000  \n",
       "75%       9.826054e+06     8.817329e+06  4.304258e+05     242.750000  \n",
       "max       9.823725e+08     8.225344e+08  1.709824e+07   21403.000000  "
      ]
     },
     "execution_count": 11,
     "metadata": {},
     "output_type": "execute_result"
    }
   ],
   "source": [
    "df.describe()"
   ]
  },
  {
   "cell_type": "code",
   "execution_count": 12,
   "metadata": {},
   "outputs": [
    {
     "data": {
      "text/plain": [
       "rank                0\n",
       "cca3                0\n",
       "country             0\n",
       "continent           0\n",
       "2023 population     0\n",
       "2022 population     0\n",
       "2020 population     0\n",
       "2015 population     0\n",
       "2010 population     0\n",
       "2000 population     0\n",
       "1990 population     0\n",
       "1980 population     0\n",
       "1970 population     0\n",
       "area (km²)          0\n",
       "density (km²)       0\n",
       "growth rate         0\n",
       "world percentage    0\n",
       "dtype: int64"
      ]
     },
     "execution_count": 12,
     "metadata": {},
     "output_type": "execute_result"
    }
   ],
   "source": [
    "df.isna().sum()\n"
   ]
  },
  {
   "cell_type": "code",
   "execution_count": 13,
   "metadata": {},
   "outputs": [
    {
     "data": {
      "text/plain": [
       "0"
      ]
     },
     "execution_count": 13,
     "metadata": {},
     "output_type": "execute_result"
    }
   ],
   "source": [
    "df.duplicated().sum()"
   ]
  },
  {
   "cell_type": "code",
   "execution_count": 17,
   "metadata": {},
   "outputs": [
    {
     "data": {
      "image/png": "[encoded data removed]",
      "text/plain": [
       "<Figure size 432x288 with 1 Axes>"
      ]
     },
     "metadata": {
      "needs_background": "light"
     },
     "output_type": "display_data"
    }
   ],
   "source": [
    "sns.histplot(df[\"2023 population\"], bins = 10 , kde = True)\n",
    "plt.title (\"Distrubution of 2023 Population\")\n",
    "plt.xlabel(\"Population\")\n",
    "plt.ylabel(\"Frequency\")\n",
    "plt.show()\n"
   ]
  },
  {
   "cell_type": "code",
   "execution_count": 19,
   "metadata": {},
   "outputs": [
    {
     "data": {
      "text/plain": [
       "continent\n",
       "Europe     1.483738e+07\n",
       "Oceania    1.981555e+06\n",
       "Name: 2023 population, dtype: float64"
      ]
     },
     "execution_count": 19,
     "metadata": {},
     "output_type": "execute_result"
    }
   ],
   "source": [
    "df.groupby(\"continent\")[\"2023 population\"].mean().sort_values(ascending = False).tail(2)"
   ]
  },
  {
   "cell_type": "code",
   "execution_count": 30,
   "metadata": {},
   "outputs": [],
   "source": [
    "top_10_countries = df.sort_values(by = \"2023 population\", ascending = False ) . head(10)"
   ]
  },
  {
   "cell_type": "code",
   "execution_count": 22,
   "metadata": {},
   "outputs": [
    {
     "data": {
      "text/html": [
       "<div>\n",
       "<style scoped>\n",
       "    .dataframe tbody tr th:only-of-type {\n",
       "        vertical-align: middle;\n",
       "    }\n",
       "\n",
       "    .dataframe tbody tr th {\n",
       "        vertical-align: top;\n",
       "    }\n",
       "\n",
       "    .dataframe thead th {\n",
       "        text-align: right;\n",
       "    }\n",
       "</style>\n",
       "<table border=\"1\" class=\"dataframe\">\n",
       "  <thead>\n",
       "    <tr style=\"text-align: right;\">\n",
       "      <th></th>\n",
       "      <th>rank</th>\n",
       "      <th>cca3</th>\n",
       "      <th>country</th>\n",
       "      <th>continent</th>\n",
       "      <th>2023 population</th>\n",
       "      <th>2022 population</th>\n",
       "      <th>2020 population</th>\n",
       "      <th>2015 population</th>\n",
       "      <th>2010 population</th>\n",
       "      <th>2000 population</th>\n",
       "      <th>1990 population</th>\n",
       "      <th>1980 population</th>\n",
       "      <th>1970 population</th>\n",
       "      <th>area (km²)</th>\n",
       "      <th>density (km²)</th>\n",
       "      <th>growth rate</th>\n",
       "      <th>world percentage</th>\n",
       "    </tr>\n",
       "  </thead>\n",
       "  <tbody>\n",
       "    <tr>\n",
       "      <th>0</th>\n",
       "      <td>1</td>\n",
       "      <td>IND</td>\n",
       "      <td>India</td>\n",
       "      <td>Asia</td>\n",
       "      <td>1428627663</td>\n",
       "      <td>1417173173</td>\n",
       "      <td>1396387127</td>\n",
       "      <td>1322866505</td>\n",
       "      <td>1240613620</td>\n",
       "      <td>1059633675</td>\n",
       "      <td>870452165</td>\n",
       "      <td>696828385</td>\n",
       "      <td>557501301</td>\n",
       "      <td>3287590.0</td>\n",
       "      <td>481</td>\n",
       "      <td>0.81%</td>\n",
       "      <td>17.85%</td>\n",
       "    </tr>\n",
       "    <tr>\n",
       "      <th>1</th>\n",
       "      <td>2</td>\n",
       "      <td>CHN</td>\n",
       "      <td>China</td>\n",
       "      <td>Asia</td>\n",
       "      <td>1425671352</td>\n",
       "      <td>1425887337</td>\n",
       "      <td>1424929781</td>\n",
       "      <td>1393715448</td>\n",
       "      <td>1348191368</td>\n",
       "      <td>1264099069</td>\n",
       "      <td>1153704252</td>\n",
       "      <td>982372466</td>\n",
       "      <td>822534450</td>\n",
       "      <td>9706961.0</td>\n",
       "      <td>151</td>\n",
       "      <td>-0.02%</td>\n",
       "      <td>17.81%</td>\n",
       "    </tr>\n",
       "    <tr>\n",
       "      <th>2</th>\n",
       "      <td>3</td>\n",
       "      <td>USA</td>\n",
       "      <td>United States</td>\n",
       "      <td>North America</td>\n",
       "      <td>339996563</td>\n",
       "      <td>338289857</td>\n",
       "      <td>335942003</td>\n",
       "      <td>324607776</td>\n",
       "      <td>311182845</td>\n",
       "      <td>282398554</td>\n",
       "      <td>248083732</td>\n",
       "      <td>223140018</td>\n",
       "      <td>200328340</td>\n",
       "      <td>9372610.0</td>\n",
       "      <td>37</td>\n",
       "      <td>0.50%</td>\n",
       "      <td>4.25%</td>\n",
       "    </tr>\n",
       "    <tr>\n",
       "      <th>3</th>\n",
       "      <td>4</td>\n",
       "      <td>IDN</td>\n",
       "      <td>Indonesia</td>\n",
       "      <td>Asia</td>\n",
       "      <td>277534122</td>\n",
       "      <td>275501339</td>\n",
       "      <td>271857970</td>\n",
       "      <td>259091970</td>\n",
       "      <td>244016173</td>\n",
       "      <td>214072421</td>\n",
       "      <td>182159874</td>\n",
       "      <td>148177096</td>\n",
       "      <td>115228394</td>\n",
       "      <td>1904569.0</td>\n",
       "      <td>148</td>\n",
       "      <td>0.74%</td>\n",
       "      <td>3.47%</td>\n",
       "    </tr>\n",
       "    <tr>\n",
       "      <th>4</th>\n",
       "      <td>5</td>\n",
       "      <td>PAK</td>\n",
       "      <td>Pakistan</td>\n",
       "      <td>Asia</td>\n",
       "      <td>240485658</td>\n",
       "      <td>235824862</td>\n",
       "      <td>227196741</td>\n",
       "      <td>210969298</td>\n",
       "      <td>194454498</td>\n",
       "      <td>154369924</td>\n",
       "      <td>115414069</td>\n",
       "      <td>80624057</td>\n",
       "      <td>59290872</td>\n",
       "      <td>881912.0</td>\n",
       "      <td>312</td>\n",
       "      <td>1.98%</td>\n",
       "      <td>3.00%</td>\n",
       "    </tr>\n",
       "    <tr>\n",
       "      <th>5</th>\n",
       "      <td>6</td>\n",
       "      <td>NGA</td>\n",
       "      <td>Nigeria</td>\n",
       "      <td>Africa</td>\n",
       "      <td>223804632</td>\n",
       "      <td>218541212</td>\n",
       "      <td>208327405</td>\n",
       "      <td>183995785</td>\n",
       "      <td>160952853</td>\n",
       "      <td>122851984</td>\n",
       "      <td>95214257</td>\n",
       "      <td>72951439</td>\n",
       "      <td>55569264</td>\n",
       "      <td>923768.0</td>\n",
       "      <td>246</td>\n",
       "      <td>2.41%</td>\n",
       "      <td>2.80%</td>\n",
       "    </tr>\n",
       "    <tr>\n",
       "      <th>6</th>\n",
       "      <td>7</td>\n",
       "      <td>BRA</td>\n",
       "      <td>Brazil</td>\n",
       "      <td>South America</td>\n",
       "      <td>216422446</td>\n",
       "      <td>215313498</td>\n",
       "      <td>213196304</td>\n",
       "      <td>205188205</td>\n",
       "      <td>196353492</td>\n",
       "      <td>175873720</td>\n",
       "      <td>150706446</td>\n",
       "      <td>122288383</td>\n",
       "      <td>96369875</td>\n",
       "      <td>8515767.0</td>\n",
       "      <td>26</td>\n",
       "      <td>0.52%</td>\n",
       "      <td>2.70%</td>\n",
       "    </tr>\n",
       "    <tr>\n",
       "      <th>7</th>\n",
       "      <td>8</td>\n",
       "      <td>BGD</td>\n",
       "      <td>Bangladesh</td>\n",
       "      <td>Asia</td>\n",
       "      <td>172954319</td>\n",
       "      <td>171186372</td>\n",
       "      <td>167420951</td>\n",
       "      <td>157830000</td>\n",
       "      <td>148391139</td>\n",
       "      <td>129193327</td>\n",
       "      <td>107147651</td>\n",
       "      <td>83929765</td>\n",
       "      <td>67541860</td>\n",
       "      <td>147570.0</td>\n",
       "      <td>1329</td>\n",
       "      <td>1.03%</td>\n",
       "      <td>2.16%</td>\n",
       "    </tr>\n",
       "    <tr>\n",
       "      <th>8</th>\n",
       "      <td>9</td>\n",
       "      <td>RUS</td>\n",
       "      <td>Russia</td>\n",
       "      <td>Europe</td>\n",
       "      <td>144444359</td>\n",
       "      <td>144713314</td>\n",
       "      <td>145617329</td>\n",
       "      <td>144668389</td>\n",
       "      <td>143242599</td>\n",
       "      <td>146844839</td>\n",
       "      <td>148005704</td>\n",
       "      <td>138257420</td>\n",
       "      <td>130093010</td>\n",
       "      <td>17098242.0</td>\n",
       "      <td>9</td>\n",
       "      <td>-0.19%</td>\n",
       "      <td>1.80%</td>\n",
       "    </tr>\n",
       "    <tr>\n",
       "      <th>9</th>\n",
       "      <td>10</td>\n",
       "      <td>MEX</td>\n",
       "      <td>Mexico</td>\n",
       "      <td>North America</td>\n",
       "      <td>128455567</td>\n",
       "      <td>127504125</td>\n",
       "      <td>125998302</td>\n",
       "      <td>120149897</td>\n",
       "      <td>112532401</td>\n",
       "      <td>97873442</td>\n",
       "      <td>81720428</td>\n",
       "      <td>67705186</td>\n",
       "      <td>50289306</td>\n",
       "      <td>1964375.0</td>\n",
       "      <td>66</td>\n",
       "      <td>0.75%</td>\n",
       "      <td>1.60%</td>\n",
       "    </tr>\n",
       "  </tbody>\n",
       "</table>\n",
       "</div>"
      ],
      "text/plain": [
       "   rank cca3        country      continent  2023 population  2022 population  \\\n",
       "0     1  IND          India           Asia       1428627663       1417173173   \n",
       "1     2  CHN          China           Asia       1425671352       1425887337   \n",
       "2     3  USA  United States  North America        339996563        338289857   \n",
       "3     4  IDN      Indonesia           Asia        277534122        275501339   \n",
       "4     5  PAK       Pakistan           Asia        240485658        235824862   \n",
       "5     6  NGA        Nigeria         Africa        223804632        218541212   \n",
       "6     7  BRA         Brazil  South America        216422446        215313498   \n",
       "7     8  BGD     Bangladesh           Asia        172954319        171186372   \n",
       "8     9  RUS         Russia         Europe        144444359        144713314   \n",
       "9    10  MEX         Mexico  North America        128455567        127504125   \n",
       "\n",
       "   2020 population  2015 population  2010 population  2000 population  \\\n",
       "0       1396387127       1322866505       1240613620       1059633675   \n",
       "1       1424929781       1393715448       1348191368       1264099069   \n",
       "2        335942003        324607776        311182845        282398554   \n",
       "3        271857970        259091970        244016173        214072421   \n",
       "4        227196741        210969298        194454498        154369924   \n",
       "5        208327405        183995785        160952853        122851984   \n",
       "6        213196304        205188205        196353492        175873720   \n",
       "7        167420951        157830000        148391139        129193327   \n",
       "8        145617329        144668389        143242599        146844839   \n",
       "9        125998302        120149897        112532401         97873442   \n",
       "\n",
       "   1990 population  1980 population  1970 population  area (km²)  \\\n",
       "0        870452165        696828385        557501301   3287590.0   \n",
       "1       1153704252        982372466        822534450   9706961.0   \n",
       "2        248083732        223140018        200328340   9372610.0   \n",
       "3        182159874        148177096        115228394   1904569.0   \n",
       "4        115414069         80624057         59290872    881912.0   \n",
       "5         95214257         72951439         55569264    923768.0   \n",
       "6        150706446        122288383         96369875   8515767.0   \n",
       "7        107147651         83929765         67541860    147570.0   \n",
       "8        148005704        138257420        130093010  17098242.0   \n",
       "9         81720428         67705186         50289306   1964375.0   \n",
       "\n",
       "   density (km²) growth rate world percentage  \n",
       "0            481       0.81%           17.85%  \n",
       "1            151      -0.02%           17.81%  \n",
       "2             37       0.50%            4.25%  \n",
       "3            148       0.74%            3.47%  \n",
       "4            312       1.98%            3.00%  \n",
       "5            246       2.41%            2.80%  \n",
       "6             26       0.52%            2.70%  \n",
       "7           1329       1.03%            2.16%  \n",
       "8              9      -0.19%            1.80%  \n",
       "9             66       0.75%            1.60%  "
      ]
     },
     "execution_count": 22,
     "metadata": {},
     "output_type": "execute_result"
    }
   ],
   "source": [
    "top_10_countries"
   ]
  },
  {
   "cell_type": "code",
   "execution_count": 31,
   "metadata": {},
   "outputs": [
    {
     "data": {
      "image/png": "[encoded data removed]",
      "text/plain": [
       "<Figure size 432x288 with 1 Axes>"
      ]
     },
     "metadata": {
      "needs_background": "light"
     },
     "output_type": "display_data"
    }
   ],
   "source": [
    "sns.barplot(x = \"2023 population\" , y = \"country\" , data = top_10_countries)\n",
    "plt.title(\"Top 10 Countries by Population in 2023\")\n",
    "plt.xlabel(\"Population\")\n",
    "plt.ylabel(\"Country\")\n",
    "plt.show()"
   ]
  },
  {
   "cell_type": "code",
   "execution_count": 32,
   "metadata": {},
   "outputs": [
    {
     "data": {
      "text/plain": [
       "Index(['rank', 'cca3', 'country', 'continent', '2023 population',\n",
       "       '2022 population', '2020 population', '2015 population',\n",
       "       '2010 population', '2000 population', '1990 population',\n",
       "       '1980 population', '1970 population', 'area (km²)', 'density (km²)',\n",
       "       'growth rate', 'world percentage'],\n",
       "      dtype='object')"
      ]
     },
     "execution_count": 32,
     "metadata": {},
     "output_type": "execute_result"
    }
   ],
   "source": [
    "df.columns"
   ]
  },
  {
   "cell_type": "code",
   "execution_count": null,
   "metadata": {},
   "outputs": [],
   "source": []
  },
  {
   "cell_type": "code",
   "execution_count": 65,
   "metadata": {},
   "outputs": [],
   "source": [
    "df.rename(columns = {\" density (km^2)\" : \" density (km²)\"}, inplace = True)"
   ]
  },
  {
   "cell_type": "code",
   "execution_count": 66,
   "metadata": {},
   "outputs": [
    {
     "data": {
      "image/png": "[encoded data removed]",
      "text/plain": [
       "<Figure size 432x288 with 1 Axes>"
      ]
     },
     "metadata": {
      "needs_background": "light"
     },
     "output_type": "display_data"
    }
   ],
   "source": [
    "sns.scatterplot(x=  \"2023 population\", y = \"density (km²)\", data = df)\n",
    "plt.title(\"Population and Density Scatter plot \")\n",
    "plt.xlabel (\" 2023 Population\")\n",
    "plt.ylabel(\" density\")\n",
    "plt.show()\n"
   ]
  },
  {
   "cell_type": "code",
   "execution_count": 67,
   "metadata": {},
   "outputs": [
    {
     "data": {
      "text/plain": [
       "Index(['rank', 'cca3', 'country', 'continent', '2023 population',\n",
       "       '2022 population', '2020 population', '2015 population',\n",
       "       '2010 population', '2000 population', '1990 population',\n",
       "       '1980 population', '1970 population', 'area (km²)', 'density (km²)',\n",
       "       'growth rate', 'world percentage'],\n",
       "      dtype='object')"
      ]
     },
     "execution_count": 67,
     "metadata": {},
     "output_type": "execute_result"
    }
   ],
   "source": [
    "df.columns"
   ]
  },
  {
   "cell_type": "code",
   "execution_count": 68,
   "metadata": {},
   "outputs": [],
   "source": [
    "df.rename(columns = {\"area (km²)\" : \"area (km²)\"} , inplace = True)"
   ]
  },
  {
   "cell_type": "code",
   "execution_count": 75,
   "metadata": {},
   "outputs": [
    {
     "data": {
      "text/plain": [
       "continent\n",
       "Africa           30317963.00\n",
       "Asia             32138143.90\n",
       "Europe           23010411.26\n",
       "North America    24244178.00\n",
       "Oceania           8515218.00\n",
       "South America    17833382.00\n",
       "Name: area (km²), dtype: float64"
      ]
     },
     "execution_count": 75,
     "metadata": {},
     "output_type": "execute_result"
    }
   ],
   "source": [
    "df.groupby(\"continent\")[ \"area (km²)\"].sum()"
   ]
  },
  {
   "cell_type": "code",
   "execution_count": 77,
   "metadata": {},
   "outputs": [
    {
     "data": {
      "text/plain": [
       "<function matplotlib.pyplot.show(close=None, block=None)>"
      ]
     },
     "execution_count": 77,
     "metadata": {},
     "output_type": "execute_result"
    },
    {
     "data": {
      "image/png": "[encoded data removed]",
      "text/plain": [
       "<Figure size 432x288 with 1 Axes>"
      ]
     },
     "metadata": {
      "needs_background": "light"
     },
     "output_type": "display_data"
    }
   ],
   "source": [
    "sns.violinplot(x=\"continent\" , y = \"density (km²)\", data = df, palette = \"viridis\", showflier = False)\n",
    "plt.title(\"Population Density Distribution  Across Continents\")\n",
    "plt.xlabel(\"Continent\")\n",
    "plt.ylabel(\"population density \")\n",
    "plt.show"
   ]
  },
  {
   "cell_type": "code",
   "execution_count": 79,
   "metadata": {},
   "outputs": [
    {
     "data": {
      "text/plain": [
       "<function matplotlib.pyplot.show(close=None, block=None)>"
      ]
     },
     "execution_count": 79,
     "metadata": {},
     "output_type": "execute_result"
    },
    {
     "data": {
      "image/png": "[encoded data removed]",
      "text/plain": [
       "<Figure size 432x288 with 1 Axes>"
      ]
     },
     "metadata": {
      "needs_background": "light"
     },
     "output_type": "display_data"
    }
   ],
   "source": [
    "sns.boxplot( x = \"continent\" , y = \"density (km²)\", data = df ,palette = \"muted\" , showfliers = False)\n",
    "plt.title(\"Population Density Distribution  Across Continents\")\n",
    "plt.xlabel(\"Continent\")\n",
    "plt.ylabel(\"population density \")\n",
    "plt.show"
   ]
  }
 ],
 "metadata": {
  "kernelspec": {
   "display_name": "base",
   "language": "python",
   "name": "python3"
  },
  "language_info": {
   "codemirror_mode": {
    "name": "ipython",
    "version": 3
   },
   "file_extension": ".py",
   "mimetype": "text/x-python",
   "name": "python",
   "nbconvert_exporter": "python",
   "pygments_lexer": "ipython3",
   "version": "3.9.7"
  }
 },
 "nbformat": 4,
 "nbformat_minor": 2
}
